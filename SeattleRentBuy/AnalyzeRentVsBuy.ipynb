{
 "cells": [
  {
   "cell_type": "code",
   "execution_count": 13,
   "metadata": {
    "collapsed": true
   },
   "outputs": [],
   "source": [
    "import numpy as np\n",
    "import os\n",
    "import pandas as pd\n",
    "from pandas import DataFrame, Series\n",
    "import matplotlib.pyplot as plt\n",
    "# Show plots inline in notebook\n",
    "%matplotlib inline"
   ]
  },
  {
   "cell_type": "markdown",
   "metadata": {},
   "source": [
    "### My Wonderful Report"
   ]
  },
  {
   "cell_type": "code",
   "execution_count": 2,
   "metadata": {
    "collapsed": true
   },
   "outputs": [],
   "source": [
    "common_data_path = 'Data/USCensusACS/IncomeAndOccupancySeattle/'\n",
    "# Read in the census data, using the GEO.id column as the index\n",
    "df2012 = pd.read_csv(os.path.join(common_data_path, 'ACS_12_1YR_B25118_with_ann.csv'),\n",
    "                    index_col='GEO.id')\n",
    "#print(df2012)\n",
    "\n",
    "df2013 = pd.read_csv(os.path.join(common_data_path, 'ACS_13_1YR_B25118_with_ann.csv'),\n",
    "                    index_col='GEO.id')\n",
    "#print(df2012)\n",
    "\n",
    "df2014 = pd.read_csv(os.path.join(common_data_path, 'ACS_14_1YR_B25118_with_ann.csv'),\n",
    "                    index_col='GEO.id')"
   ]
  },
  {
   "cell_type": "code",
   "execution_count": 3,
   "metadata": {
    "collapsed": false
   },
   "outputs": [
    {
     "name": "stdout",
     "output_type": "stream",
     "text": [
      "GEO.id\n",
      "Id                  Estimate; Owner occupied: - Less than $5,000\n",
      "0400000US53                                                25022\n",
      "1600000US5363000                                            2069\n",
      "Name: HD01_VD03, dtype: object\n"
     ]
    }
   ],
   "source": [
    "print(df2012['HD01_VD03'])"
   ]
  },
  {
   "cell_type": "code",
   "execution_count": 4,
   "metadata": {
    "collapsed": false
   },
   "outputs": [
    {
     "data": {
      "text/plain": [
       "pandas.core.frame.DataFrame"
      ]
     },
     "execution_count": 4,
     "metadata": {},
     "output_type": "execute_result"
    }
   ],
   "source": [
    "type(df2012)"
   ]
  },
  {
   "cell_type": "code",
   "execution_count": 5,
   "metadata": {
    "collapsed": false
   },
   "outputs": [
    {
     "data": {
      "text/plain": [
       "Index(['Id', '0400000US53', '1600000US5363000'], dtype='object', name='GEO.id')"
      ]
     },
     "execution_count": 5,
     "metadata": {},
     "output_type": "execute_result"
    }
   ],
   "source": [
    "df2012.index"
   ]
  },
  {
   "cell_type": "code",
   "execution_count": 6,
   "metadata": {
    "collapsed": false
   },
   "outputs": [
    {
     "name": "stdout",
     "output_type": "stream",
     "text": [
      "HD01_VD01    289790\n",
      "Name: 1600000US5363000, dtype: object\n"
     ]
    },
    {
     "data": {
      "text/plain": [
       "pandas.core.series.Series"
      ]
     },
     "execution_count": 6,
     "metadata": {},
     "output_type": "execute_result"
    }
   ],
   "source": [
    "seattle2012 = df2012.loc['1600000US5363000']\n",
    "print(seattle2012[['HD01_VD01']])\n",
    "type(seattle2012)"
   ]
  },
  {
   "cell_type": "code",
   "execution_count": 36,
   "metadata": {
    "collapsed": true
   },
   "outputs": [],
   "source": [
    "def income_bracket_buckets(df):\n",
    "    \"\"\" Return two Series of Seattle renters by income bracket, and owners by income bracket \"\"\"\n",
    "\n",
    "    seattle_row = df.loc['1600000US5363000']\n",
    "    #print(\"ibb: seattle_row={0}\".format(seattle_row))\n",
    "    #print(\"ibb: read csv default type = {0}\".format(type(seattle_row.HD01_VD13)))\n",
    "    \n",
    "    ##\n",
    "    # Owner\n",
    "    seattle_owner = Series([0] * 5, \n",
    "                           #index=['>$150K', '$100K-$150K', '$75K-$100K', '$50K-$75K', '<$50K'])\n",
    "                            index=['<$50K', '$50K-$75K','$75K-$100K','$100K-$150K', '>$150K'])\n",
    "    seattle_owner['>$150K'] = int(seattle_row.HD01_VD13)\n",
    "    seattle_owner['$100K-$150K'] = int(seattle_row.HD01_VD12)\n",
    "    seattle_owner['$75K-$100K'] = int(seattle_row.HD01_VD11)\n",
    "    seattle_owner['$50K-$75K'] = int(seattle_row.HD01_VD10)\n",
    "    # Under 50K has multiple sub-buckets that will be combined into one here\n",
    "    owner_under50K_cols = ['HD01_VD03', 'HD01_VD04', 'HD01_VD05', 'HD01_VD06', \n",
    "                         'HD01_VD07', 'HD01_VD08', 'HD01_VD09']\n",
    "    # Convert <50K cells from string to integer before summing\n",
    "    seattle_row[owner_under50K_cols] = seattle_row[owner_under50K_cols].astype('int')\n",
    "    seattle_owner['<$50K'] = seattle_row[owner_under50K_cols].values.sum()\n",
    "    #print(seattle_owner)\n",
    "    \n",
    "    ##\n",
    "    # Renter\n",
    "    seattle_renter = Series([0] * 5, \n",
    "                           #index=['>$150K', '$100K-$150K', '$75K-$100K', '$50K-$75K', '<$50K'])\n",
    "                            index=['<$50K', '$50K-$75K','$75K-$100K','$100K-$150K', '>$150K'])\n",
    "    seattle_renter['>$150K'] = int(seattle_row.HD01_VD25)\n",
    "    seattle_renter['$100K-$150K'] = int(seattle_row.HD01_VD24)\n",
    "    seattle_renter['$75K-$100K'] = int(seattle_row.HD01_VD23)\n",
    "    seattle_renter['$50K-$75K'] = int(seattle_row.HD01_VD22)\n",
    "    # Under 50K has multiple sub-buckets that will be combined into one here\n",
    "    renter_under50K_cols = ['HD01_VD15', 'HD01_VD16', 'HD01_VD17', 'HD01_VD18', \n",
    "                         'HD01_VD19', 'HD01_VD20', 'HD01_VD21']\n",
    "    # Convert <50K cells from string to integer before summing\n",
    "    seattle_row[renter_under50K_cols] = seattle_row[renter_under50K_cols].astype('int')\n",
    "    seattle_renter['<$50K'] = seattle_row[renter_under50K_cols].values.sum()    \n",
    "    return (seattle_owner, seattle_renter)"
   ]
  },
  {
   "cell_type": "code",
   "execution_count": 37,
   "metadata": {
    "collapsed": false
   },
   "outputs": [
    {
     "name": "stdout",
     "output_type": "stream",
     "text": [
      "Owner2012:\n",
      "<$50K          28746\n",
      "$50K-$75K      21803\n",
      "$75K-$100K     18994\n",
      "$100K-$150K    27618\n",
      ">$150K         35727\n",
      "dtype: int64\n",
      "Owner2013:\n",
      "<$50K          27436\n",
      "$50K-$75K      21317\n",
      "$75K-$100K     17483\n",
      "$100K-$150K    29966\n",
      ">$150K         41538\n",
      "dtype: int64\n",
      "Owner2014:\n",
      "<$50K          26062\n",
      "$50K-$75K      19346\n",
      "$75K-$100K     16652\n",
      "$100K-$150K    29107\n",
      ">$150K         47471\n",
      "dtype: int64\n",
      "Renter2012:\n",
      "<$50K          85239\n",
      "$50K-$75K      28030\n",
      "$75K-$100K     17701\n",
      "$100K-$150K    17836\n",
      ">$150K          8096\n",
      "dtype: int64\n",
      "Renter2013:\n",
      "<$50K          82925\n",
      "$50K-$75K      27253\n",
      "$75K-$100K     18153\n",
      "$100K-$150K    19025\n",
      ">$150K         12824\n",
      "dtype: int64\n",
      "Renter2014:\n",
      "<$50K          86740\n",
      "$50K-$75K      26894\n",
      "$75K-$100K     17325\n",
      "$100K-$150K    20883\n",
      ">$150K         14084\n",
      "dtype: int64\n"
     ]
    }
   ],
   "source": [
    "owner2012, renter2012 = income_bracket_buckets(df2012)\n",
    "owner2013, renter2013 = income_bracket_buckets(df2013)\n",
    "owner2014, renter2014 = income_bracket_buckets(df2014)\n",
    "\n",
    "print(\"Owner2012:\\n{0}\".format(owner2012))\n",
    "print(\"Owner2013:\\n{0}\".format(owner2013))\n",
    "print(\"Owner2014:\\n{0}\".format(owner2014))\n",
    "print(\"Renter2012:\\n{0}\".format(renter2012))\n",
    "print(\"Renter2013:\\n{0}\".format(renter2013))\n",
    "print(\"Renter2014:\\n{0}\".format(renter2014))"
   ]
  },
  {
   "cell_type": "code",
   "execution_count": 38,
   "metadata": {
    "collapsed": false
   },
   "outputs": [
    {
     "name": "stdout",
     "output_type": "stream",
     "text": [
      "             Owner2012  Owner2013  Owner2014  Renter2012  Renter2013  \\\n",
      "<$50K            28746      27436      26062       85239       82925   \n",
      "$50K-$75K        21803      21317      19346       28030       27253   \n",
      "$75K-$100K       18994      17483      16652       17701       18153   \n",
      "$100K-$150K      27618      29966      29107       17836       19025   \n",
      ">$150K           35727      41538      47471        8096       12824   \n",
      "\n",
      "             Renter2014  \n",
      "<$50K             86740  \n",
      "$50K-$75K         26894  \n",
      "$75K-$100K        17325  \n",
      "$100K-$150K       20883  \n",
      ">$150K            14084  \n"
     ]
    }
   ],
   "source": [
    "# Merge tables into dataframe\n",
    "seattleOwnerRenter = DataFrame({'Owner2012': owner2012,\n",
    "                                'Owner2013': owner2013,\n",
    "                                'Owner2014': owner2014,\n",
    "                                'Renter2012': renter2012,\n",
    "                                'Renter2013': renter2013,\n",
    "                                'Renter2014': renter2014})\n",
    "print(seattleOwnerRenter)"
   ]
  },
  {
   "cell_type": "code",
   "execution_count": 39,
   "metadata": {
    "collapsed": false
   },
   "outputs": [
    {
     "name": "stdout",
     "output_type": "stream",
     "text": [
      "             Owner2012  Owner2013  Owner2014  Renter2012  Renter2013  \\\n",
      "<$50K            28746      27436      26062       85239       82925   \n",
      "$50K-$75K        21803      21317      19346       28030       27253   \n",
      "$75K-$100K       18994      17483      16652       17701       18153   \n",
      "$100K-$150K      27618      29966      29107       17836       19025   \n",
      ">$150K           35727      41538      47471        8096       12824   \n",
      "\n",
      "             Renter2014  OwnerPctChg2012_2013  OwnerPctChg2013_2014  \\\n",
      "<$50K             86740                 -4.56                 -5.01   \n",
      "$50K-$75K         26894                 -2.23                 -9.25   \n",
      "$75K-$100K        17325                 -7.96                 -4.75   \n",
      "$100K-$150K       20883                  8.50                 -2.87   \n",
      ">$150K            14084                 16.27                 14.28   \n",
      "\n",
      "             RenterPctChg2012_2013  RenterPctChg2013_2014  \n",
      "<$50K                        -2.71                   4.60  \n",
      "$50K-$75K                    -2.77                  -1.32  \n",
      "$75K-$100K                    2.55                  -4.56  \n",
      "$100K-$150K                   6.67                   9.77  \n",
      ">$150K                       58.40                   9.83  \n"
     ]
    }
   ],
   "source": [
    "# Add columns with percentage change 2012:2013 and 2013:2014, renters and owners\n",
    "sor = seattleOwnerRenter\n",
    "renterPctChg12_13 = (sor.Renter2013 - sor.Renter2012) / sor.Renter2012 * 100\n",
    "renterPctChg13_14 = (sor.Renter2014 - sor.Renter2013) / sor.Renter2013 * 100\n",
    "ownerPctChg12_13 = (sor.Owner2013 - sor.Owner2012) / sor.Owner2012 * 100\n",
    "ownerPctChg13_14 = (sor.Owner2014 - sor.Owner2013) / sor.Owner2013 * 100\n",
    "\n",
    "seattleOwnerRenter['OwnerPctChg2012_2013'] = ownerPctChg12_13\n",
    "seattleOwnerRenter['OwnerPctChg2013_2014'] = ownerPctChg13_14\n",
    "seattleOwnerRenter['RenterPctChg2012_2013'] = renterPctChg12_13\n",
    "seattleOwnerRenter['RenterPctChg2013_2014'] = renterPctChg13_14\n",
    "#print(\"{0:.2f}\".format(seattleOwnerRenter))\n",
    "pd.options.display.float_format = '{:,.2f}'.format\n",
    "print(seattleOwnerRenter)"
   ]
  },
  {
   "cell_type": "code",
   "execution_count": 40,
   "metadata": {
    "collapsed": false
   },
   "outputs": [
    {
     "data": {
      "text/plain": [
       "numpy.float64"
      ]
     },
     "execution_count": 40,
     "metadata": {},
     "output_type": "execute_result"
    }
   ],
   "source": [
    "type(seattleOwnerRenter.RenterPctChg2012_2013['>$150K'])"
   ]
  },
  {
   "cell_type": "code",
   "execution_count": 41,
   "metadata": {
    "collapsed": false
   },
   "outputs": [
    {
     "data": {
      "image/png": "[encoded data removed]",
      "text/plain": [
       "<matplotlib.figure.Figure at 0x108657b38>"
      ]
     },
     "metadata": {},
     "output_type": "display_data"
    }
   ],
   "source": [
    "# Test use of matplotlib inside python notebook\n",
    "# Make a bar plot of a small series of 10 random values centered at 0\n",
    "seedval=206\n",
    "np.random.seed(seedval)\n",
    "s = Series(np.random.rand(10) - 0.5)\n",
    "s.plot(kind='barh'); # Use semi-colon to suppress Notebooks Out[] output"
   ]
  },
  {
   "cell_type": "code",
   "execution_count": 42,
   "metadata": {
    "collapsed": false
   },
   "outputs": [
    {
     "data": {
      "text/plain": [
       "<matplotlib.figure.Figure at 0x10c8d4d30>"
      ]
     },
     "metadata": {},
     "output_type": "display_data"
    },
    {
     "data": {
      "image/png": "[encoded data removed]",
      "text/plain": [
       "<matplotlib.figure.Figure at 0x10cd83710>"
      ]
     },
     "metadata": {},
     "output_type": "display_data"
    }
   ],
   "source": [
    "# First pass at plotting rent vs buy\n",
    "\n",
    "# Get the subset of data to plot\n",
    "sorsub = sor[['OwnerPctChg2012_2013','RenterPctChg2012_2013']]\n",
    "# Desired order of columns, left to right (top to bottom): ,index=['>$150K', '$100K-$150K', '$75K-$100K', '$50K-$75K', '<$50K']\n",
    "plt.figure();\n",
    "sorsub.plot(kind='barh', title='High-income housing');"
   ]
  },
  {
   "cell_type": "code",
   "execution_count": 35,
   "metadata": {
    "collapsed": false
   },
   "outputs": [
    {
     "data": {
      "text/plain": [
       "Index(['$100K-$150K', '$50K-$75K', '$75K-$100K', '<$50K', '>$150K'], dtype='object')"
      ]
     },
     "execution_count": 35,
     "metadata": {},
     "output_type": "execute_result"
    }
   ],
   "source": [
    "sorsub.index"
   ]
  },
  {
   "cell_type": "code",
   "execution_count": null,
   "metadata": {
    "collapsed": true
   },
   "outputs": [],
   "source": []
  }
 ],
 "metadata": {
  "celltoolbar": "Raw Cell Format",
  "kernelspec": {
   "display_name": "Python 3",
   "language": "python",
   "name": "python3"
  },
  "language_info": {
   "codemirror_mode": {
    "name": "ipython",
    "version": 3
   },
   "file_extension": ".py",
   "mimetype": "text/x-python",
   "name": "python",
   "nbconvert_exporter": "python",
   "pygments_lexer": "ipython3",
   "version": "3.4.3"
  }
 },
 "nbformat": 4,
 "nbformat_minor": 0
}
