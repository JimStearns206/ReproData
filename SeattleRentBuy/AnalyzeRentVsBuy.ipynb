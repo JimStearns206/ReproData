{
 "cells": [
  {
   "cell_type": "code",
   "execution_count": 3,
   "metadata": {
    "collapsed": true
   },
   "outputs": [],
   "source": [
    "import numpy as np\n",
    "import os\n",
    "import pandas as pd\n",
    "from pandas import DataFrame, Series\n",
    "import matplotlib.pyplot as plt"
   ]
  },
  {
   "cell_type": "code",
   "execution_count": 71,
   "metadata": {
    "collapsed": false
   },
   "outputs": [
    {
     "name": "stdout",
     "output_type": "stream",
     "text": [
      "                  GEO.id2         GEO.display-label         HD01_VD01  \\\n",
      "GEO.id                                                                  \n",
      "Id                    Id2                 Geography  Estimate; Total:   \n",
      "0400000US53            53                Washington           2636817   \n",
      "1600000US5363000  5363000  Seattle city, Washington            289790   \n",
      "\n",
      "                                HD02_VD01                  HD01_VD02  \\\n",
      "GEO.id                                                                 \n",
      "Id                Margin of Error; Total:  Estimate; Owner occupied:   \n",
      "0400000US53                         10074                    1643637   \n",
      "1600000US5363000                     4363                     132888   \n",
      "\n",
      "                                         HD02_VD02  \\\n",
      "GEO.id                                               \n",
      "Id                Margin of Error; Owner occupied:   \n",
      "0400000US53                                  12066   \n",
      "1600000US5363000                              3805   \n",
      "\n",
      "                                                     HD01_VD03  \\\n",
      "GEO.id                                                           \n",
      "Id                Estimate; Owner occupied: - Less than $5,000   \n",
      "0400000US53                                              25022   \n",
      "1600000US5363000                                          2069   \n",
      "\n",
      "                                                          HD02_VD03  \\\n",
      "GEO.id                                                                \n",
      "Id                Margin of Error; Owner occupied: - Less than $...   \n",
      "0400000US53                                                    2271   \n",
      "1600000US5363000                                                718   \n",
      "\n",
      "                                                     HD01_VD04  \\\n",
      "GEO.id                                                           \n",
      "Id                Estimate; Owner occupied: - $5,000 to $9,999   \n",
      "0400000US53                                              22070   \n",
      "1600000US5363000                                          1278   \n",
      "\n",
      "                                                          HD02_VD04  \\\n",
      "GEO.id                                                                \n",
      "Id                Margin of Error; Owner occupied: - $5,000 to $...   \n",
      "0400000US53                                                    1967   \n",
      "1600000US5363000                                                593   \n",
      "\n",
      "                                        ...                          \\\n",
      "GEO.id                                  ...                           \n",
      "Id                                      ...                           \n",
      "0400000US53                             ...                           \n",
      "1600000US5363000                        ...                           \n",
      "\n",
      "                                                        HD01_VD21  \\\n",
      "GEO.id                                                              \n",
      "Id                Estimate; Renter occupied: - $35,000 to $49,999   \n",
      "0400000US53                                                163007   \n",
      "1600000US5363000                                            22191   \n",
      "\n",
      "                                                          HD02_VD21  \\\n",
      "GEO.id                                                                \n",
      "Id                Margin of Error; Renter occupied: - $35,000 to...   \n",
      "0400000US53                                                    6693   \n",
      "1600000US5363000                                               2574   \n",
      "\n",
      "                                                        HD01_VD22  \\\n",
      "GEO.id                                                              \n",
      "Id                Estimate; Renter occupied: - $50,000 to $74,999   \n",
      "0400000US53                                                175641   \n",
      "1600000US5363000                                            28030   \n",
      "\n",
      "                                                          HD02_VD22  \\\n",
      "GEO.id                                                                \n",
      "Id                Margin of Error; Renter occupied: - $50,000 to...   \n",
      "0400000US53                                                    6163   \n",
      "1600000US5363000                                               2441   \n",
      "\n",
      "                                                        HD01_VD23  \\\n",
      "GEO.id                                                              \n",
      "Id                Estimate; Renter occupied: - $75,000 to $99,999   \n",
      "0400000US53                                                 87751   \n",
      "1600000US5363000                                            17701   \n",
      "\n",
      "                                                          HD02_VD23  \\\n",
      "GEO.id                                                                \n",
      "Id                Margin of Error; Renter occupied: - $75,000 to...   \n",
      "0400000US53                                                    5260   \n",
      "1600000US5363000                                               2211   \n",
      "\n",
      "                                                          HD01_VD24  \\\n",
      "GEO.id                                                                \n",
      "Id                Estimate; Renter occupied: - $100,000 to $149,999   \n",
      "0400000US53                                                   69744   \n",
      "1600000US5363000                                              17836   \n",
      "\n",
      "                                                          HD02_VD24  \\\n",
      "GEO.id                                                                \n",
      "Id                Margin of Error; Renter occupied: - $100,000 t...   \n",
      "0400000US53                                                    4686   \n",
      "1600000US5363000                                               2255   \n",
      "\n",
      "                                                      HD01_VD25  \\\n",
      "GEO.id                                                            \n",
      "Id                Estimate; Renter occupied: - $150,000 or more   \n",
      "0400000US53                                               26461   \n",
      "1600000US5363000                                           8096   \n",
      "\n",
      "                                                          HD02_VD25  \n",
      "GEO.id                                                               \n",
      "Id                Margin of Error; Renter occupied: - $150,000 o...  \n",
      "0400000US53                                                    2515  \n",
      "1600000US5363000                                               1590  \n",
      "\n",
      "[3 rows x 52 columns]\n",
      "                  GEO.id2         GEO.display-label         HD01_VD01  \\\n",
      "GEO.id                                                                  \n",
      "Id                    Id2                 Geography  Estimate; Total:   \n",
      "0400000US53            53                Washington           2636817   \n",
      "1600000US5363000  5363000  Seattle city, Washington            289790   \n",
      "\n",
      "                                HD02_VD01                  HD01_VD02  \\\n",
      "GEO.id                                                                 \n",
      "Id                Margin of Error; Total:  Estimate; Owner occupied:   \n",
      "0400000US53                         10074                    1643637   \n",
      "1600000US5363000                     4363                     132888   \n",
      "\n",
      "                                         HD02_VD02  \\\n",
      "GEO.id                                               \n",
      "Id                Margin of Error; Owner occupied:   \n",
      "0400000US53                                  12066   \n",
      "1600000US5363000                              3805   \n",
      "\n",
      "                                                     HD01_VD03  \\\n",
      "GEO.id                                                           \n",
      "Id                Estimate; Owner occupied: - Less than $5,000   \n",
      "0400000US53                                              25022   \n",
      "1600000US5363000                                          2069   \n",
      "\n",
      "                                                          HD02_VD03  \\\n",
      "GEO.id                                                                \n",
      "Id                Margin of Error; Owner occupied: - Less than $...   \n",
      "0400000US53                                                    2271   \n",
      "1600000US5363000                                                718   \n",
      "\n",
      "                                                     HD01_VD04  \\\n",
      "GEO.id                                                           \n",
      "Id                Estimate; Owner occupied: - $5,000 to $9,999   \n",
      "0400000US53                                              22070   \n",
      "1600000US5363000                                          1278   \n",
      "\n",
      "                                                          HD02_VD04  \\\n",
      "GEO.id                                                                \n",
      "Id                Margin of Error; Owner occupied: - $5,000 to $...   \n",
      "0400000US53                                                    1967   \n",
      "1600000US5363000                                                593   \n",
      "\n",
      "                                        ...                          \\\n",
      "GEO.id                                  ...                           \n",
      "Id                                      ...                           \n",
      "0400000US53                             ...                           \n",
      "1600000US5363000                        ...                           \n",
      "\n",
      "                                                        HD01_VD21  \\\n",
      "GEO.id                                                              \n",
      "Id                Estimate; Renter occupied: - $35,000 to $49,999   \n",
      "0400000US53                                                163007   \n",
      "1600000US5363000                                            22191   \n",
      "\n",
      "                                                          HD02_VD21  \\\n",
      "GEO.id                                                                \n",
      "Id                Margin of Error; Renter occupied: - $35,000 to...   \n",
      "0400000US53                                                    6693   \n",
      "1600000US5363000                                               2574   \n",
      "\n",
      "                                                        HD01_VD22  \\\n",
      "GEO.id                                                              \n",
      "Id                Estimate; Renter occupied: - $50,000 to $74,999   \n",
      "0400000US53                                                175641   \n",
      "1600000US5363000                                            28030   \n",
      "\n",
      "                                                          HD02_VD22  \\\n",
      "GEO.id                                                                \n",
      "Id                Margin of Error; Renter occupied: - $50,000 to...   \n",
      "0400000US53                                                    6163   \n",
      "1600000US5363000                                               2441   \n",
      "\n",
      "                                                        HD01_VD23  \\\n",
      "GEO.id                                                              \n",
      "Id                Estimate; Renter occupied: - $75,000 to $99,999   \n",
      "0400000US53                                                 87751   \n",
      "1600000US5363000                                            17701   \n",
      "\n",
      "                                                          HD02_VD23  \\\n",
      "GEO.id                                                                \n",
      "Id                Margin of Error; Renter occupied: - $75,000 to...   \n",
      "0400000US53                                                    5260   \n",
      "1600000US5363000                                               2211   \n",
      "\n",
      "                                                          HD01_VD24  \\\n",
      "GEO.id                                                                \n",
      "Id                Estimate; Renter occupied: - $100,000 to $149,999   \n",
      "0400000US53                                                   69744   \n",
      "1600000US5363000                                              17836   \n",
      "\n",
      "                                                          HD02_VD24  \\\n",
      "GEO.id                                                                \n",
      "Id                Margin of Error; Renter occupied: - $100,000 t...   \n",
      "0400000US53                                                    4686   \n",
      "1600000US5363000                                               2255   \n",
      "\n",
      "                                                      HD01_VD25  \\\n",
      "GEO.id                                                            \n",
      "Id                Estimate; Renter occupied: - $150,000 or more   \n",
      "0400000US53                                               26461   \n",
      "1600000US5363000                                           8096   \n",
      "\n",
      "                                                          HD02_VD25  \n",
      "GEO.id                                                               \n",
      "Id                Margin of Error; Renter occupied: - $150,000 o...  \n",
      "0400000US53                                                    2515  \n",
      "1600000US5363000                                               1590  \n",
      "\n",
      "[3 rows x 52 columns]\n"
     ]
    }
   ],
   "source": [
    "common_data_path = 'Data/USCensusACS/IncomeAndOccupancySeattle/'\n",
    "# Read in the census data, using the GEO.id column as the index\n",
    "df2012 = pd.read_csv(os.path.join(common_data_path, 'ACS_12_1YR_B25118_with_ann.csv'),\n",
    "                    index_col='GEO.id')\n",
    "print(df2012)\n",
    "\n",
    "df2013 = pd.read_csv(os.path.join(common_data_path, 'ACS_13_1YR_B25118_with_ann.csv'),\n",
    "                    index_col='GEO.id')\n",
    "print(df2012)\n",
    "\n",
    "df2014 = pd.read_csv(os.path.join(common_data_path, 'ACS_14_1YR_B25118_with_ann.csv'),\n",
    "                    index_col='GEO.id')"
   ]
  },
  {
   "cell_type": "code",
   "execution_count": 38,
   "metadata": {
    "collapsed": false
   },
   "outputs": [
    {
     "name": "stdout",
     "output_type": "stream",
     "text": [
      "GEO.id\n",
      "Id                  Estimate; Owner occupied: - Less than $5,000\n",
      "0400000US53                                                25022\n",
      "1600000US5363000                                            2069\n",
      "Name: HD01_VD03, dtype: object\n"
     ]
    }
   ],
   "source": [
    "print(df2012['HD01_VD03'])"
   ]
  },
  {
   "cell_type": "code",
   "execution_count": 6,
   "metadata": {
    "collapsed": false
   },
   "outputs": [
    {
     "data": {
      "text/plain": [
       "pandas.core.frame.DataFrame"
      ]
     },
     "execution_count": 6,
     "metadata": {},
     "output_type": "execute_result"
    }
   ],
   "source": [
    "type(df2012)"
   ]
  },
  {
   "cell_type": "code",
   "execution_count": 39,
   "metadata": {
    "collapsed": false
   },
   "outputs": [
    {
     "data": {
      "text/plain": [
       "Index(['Id', '0400000US53', '1600000US5363000'], dtype='object', name='GEO.id')"
      ]
     },
     "execution_count": 39,
     "metadata": {},
     "output_type": "execute_result"
    }
   ],
   "source": [
    "df2012.index"
   ]
  },
  {
   "cell_type": "code",
   "execution_count": 40,
   "metadata": {
    "collapsed": false
   },
   "outputs": [
    {
     "name": "stdout",
     "output_type": "stream",
     "text": [
      "HD01_VD01    289790\n",
      "Name: 1600000US5363000, dtype: object\n"
     ]
    },
    {
     "data": {
      "text/plain": [
       "pandas.core.series.Series"
      ]
     },
     "execution_count": 40,
     "metadata": {},
     "output_type": "execute_result"
    }
   ],
   "source": [
    "seattle2012 = df2012.loc['1600000US5363000']\n",
    "print(seattle2012[['HD01_VD01']])\n",
    "type(seattle2012)"
   ]
  },
  {
   "cell_type": "code",
   "execution_count": 66,
   "metadata": {
    "collapsed": false
   },
   "outputs": [],
   "source": [
    "def income_bracket_buckets(df):\n",
    "    \"\"\" Return two Series of Seattle renters by income bracket, and owners by income bracket \"\"\"\n",
    "\n",
    "    seattle_row = df.loc['1600000US5363000']\n",
    "    #print(\"ibb: seattle_row={0}\".format(seattle_row))\n",
    "    #print(\"ibb: read csv default type = {0}\".format(type(seattle_row.HD01_VD13)))\n",
    "    \n",
    "    ##\n",
    "    # Owner\n",
    "    seattle_owner = Series([0] * 5, \n",
    "                           index=['>$150K', '$100K-$150K', '$75K-$100K', '$50K-$75K', '<$50K'])\n",
    "    seattle_owner['>$150K'] = int(seattle_row.HD01_VD13)\n",
    "    seattle_owner['$100K-$150K'] = int(seattle_row.HD01_VD12)\n",
    "    seattle_owner['$75K-$100K'] = int(seattle_row.HD01_VD11)\n",
    "    seattle_owner['$50K-$75K'] = int(seattle_row.HD01_VD10)\n",
    "    # Under 50K has multiple sub-buckets that will be combined into one here\n",
    "    owner_under50K_cols = ['HD01_VD03', 'HD01_VD04', 'HD01_VD05', 'HD01_VD06', \n",
    "                         'HD01_VD07', 'HD01_VD08', 'HD01_VD09']\n",
    "    # Convert <50K cells from string to integer before summing\n",
    "    seattle_row[owner_under50K_cols] = seattle_row[owner_under50K_cols].astype('int')\n",
    "    seattle_owner['<$50K'] = seattle_row[owner_under50K_cols].values.sum()\n",
    "    #print(seattle_owner)\n",
    "    \n",
    "    ##\n",
    "    # Renter\n",
    "    seattle_renter = Series([0] * 5, \n",
    "                           index=['>$150K', '$100K-$150K', '$75K-$100K', '$50K-$75K', '<$50K'])\n",
    "    seattle_renter['>$150K'] = int(seattle_row.HD01_VD25)\n",
    "    seattle_renter['$100K-$150K'] = int(seattle_row.HD01_VD24)\n",
    "    seattle_renter['$75K-$100K'] = int(seattle_row.HD01_VD23)\n",
    "    seattle_renter['$50K-$75K'] = int(seattle_row.HD01_VD22)\n",
    "    # Under 50K has multiple sub-buckets that will be combined into one here\n",
    "    renter_under50K_cols = ['HD01_VD15', 'HD01_VD16', 'HD01_VD17', 'HD01_VD18', \n",
    "                         'HD01_VD19', 'HD01_VD20', 'HD01_VD21']\n",
    "    # Convert <50K cells from string to integer before summing\n",
    "    seattle_row[renter_under50K_cols] = seattle_row[renter_under50K_cols].astype('int')\n",
    "    seattle_renter['<$50K'] = seattle_row[renter_under50K_cols].values.sum()    \n",
    "    return (seattle_owner, seattle_renter)\n",
    "\n"
   ]
  },
  {
   "cell_type": "code",
   "execution_count": 73,
   "metadata": {
    "collapsed": false
   },
   "outputs": [
    {
     "name": "stdout",
     "output_type": "stream",
     "text": [
      "Owner2012:\n",
      ">$150K         35727\n",
      "$100K-$150K    27618\n",
      "$75K-$100K     18994\n",
      "$50K-$75K      21803\n",
      "<$50K          28746\n",
      "dtype: int64\n",
      "Owner2013:\n",
      ">$150K         41538\n",
      "$100K-$150K    29966\n",
      "$75K-$100K     17483\n",
      "$50K-$75K      21317\n",
      "<$50K          27436\n",
      "dtype: int64\n",
      "Owner2014:\n",
      ">$150K         47471\n",
      "$100K-$150K    29107\n",
      "$75K-$100K     16652\n",
      "$50K-$75K      19346\n",
      "<$50K          26062\n",
      "dtype: int64\n",
      "Renter2012:\n",
      ">$150K          8096\n",
      "$100K-$150K    17836\n",
      "$75K-$100K     17701\n",
      "$50K-$75K      28030\n",
      "<$50K          85239\n",
      "dtype: int64\n",
      "Renter2013:\n",
      ">$150K         12824\n",
      "$100K-$150K    19025\n",
      "$75K-$100K     18153\n",
      "$50K-$75K      27253\n",
      "<$50K          82925\n",
      "dtype: int64\n",
      "Renter2014:\n",
      ">$150K         14084\n",
      "$100K-$150K    20883\n",
      "$75K-$100K     17325\n",
      "$50K-$75K      26894\n",
      "<$50K          86740\n",
      "dtype: int64\n"
     ]
    }
   ],
   "source": [
    "owner2012, renter2012 = income_bracket_buckets(df2012)\n",
    "owner2013, renter2013 = income_bracket_buckets(df2013)\n",
    "owner2014, renter2014 = income_bracket_buckets(df2014)\n",
    "\n",
    "print(\"Owner2012:\\n{0}\".format(owner2012))\n",
    "print(\"Owner2013:\\n{0}\".format(owner2013))\n",
    "print(\"Owner2014:\\n{0}\".format(owner2014))\n",
    "print(\"Renter2012:\\n{0}\".format(renter2012))\n",
    "print(\"Renter2013:\\n{0}\".format(renter2013))\n",
    "print(\"Renter2014:\\n{0}\".format(renter2014))"
   ]
  },
  {
   "cell_type": "code",
   "execution_count": 74,
   "metadata": {
    "collapsed": false
   },
   "outputs": [
    {
     "name": "stdout",
     "output_type": "stream",
     "text": [
      "             Owner2012  Owner2013  Owner2014  Renter2012  Renter2013  \\\n",
      ">$150K           35727      41538      47471        8096       12824   \n",
      "$100K-$150K      27618      29966      29107       17836       19025   \n",
      "$75K-$100K       18994      17483      16652       17701       18153   \n",
      "$50K-$75K        21803      21317      19346       28030       27253   \n",
      "<$50K            28746      27436      26062       85239       82925   \n",
      "\n",
      "             Renter2014  \n",
      ">$150K            14084  \n",
      "$100K-$150K       20883  \n",
      "$75K-$100K        17325  \n",
      "$50K-$75K         26894  \n",
      "<$50K             86740  \n"
     ]
    }
   ],
   "source": [
    "# Merge tables into dataframe\n",
    "seattleOwnerRenter = DataFrame({'Owner2012': owner2012,\n",
    "                                'Owner2013': owner2013,\n",
    "                                'Owner2014': owner2014,\n",
    "                                'Renter2012': renter2012,\n",
    "                                'Renter2013': renter2013,\n",
    "                                'Renter2014': renter2014})\n",
    "print(seattleOwnerRenter)"
   ]
  },
  {
   "cell_type": "code",
   "execution_count": null,
   "metadata": {
    "collapsed": true
   },
   "outputs": [],
   "source": []
  }
 ],
 "metadata": {
  "celltoolbar": "Raw Cell Format",
  "kernelspec": {
   "display_name": "Python 3",
   "language": "python",
   "name": "python3"
  },
  "language_info": {
   "codemirror_mode": {
    "name": "ipython",
    "version": 3
   },
   "file_extension": ".py",
   "mimetype": "text/x-python",
   "name": "python",
   "nbconvert_exporter": "python",
   "pygments_lexer": "ipython3",
   "version": "3.4.3"
  }
 },
 "nbformat": 4,
 "nbformat_minor": 0
}
